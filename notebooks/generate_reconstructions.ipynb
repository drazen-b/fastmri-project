{
 "cells": [
  {
   "attachments": {},
   "cell_type": "markdown",
   "metadata": {},
   "source": [
    "# Generate reconstructions from example models"
   ]
  },
  {
   "attachments": {},
   "cell_type": "markdown",
   "metadata": {},
   "source": [
    "## Setup paths"
   ]
  },
  {
   "cell_type": "code",
   "execution_count": 2,
   "metadata": {},
   "outputs": [],
   "source": [
    "# Define input data path and base directory which will contain outputs\n",
    "data_path = \"/run/media/dbertic/Transcend/MRI/multicoil_temp\"\n",
    "base_output_path = \"/run/media/dbertic/Transcend/MRI/outputs\"\n",
    "\n",
    "# Append output paths to output base directory\n",
    "zero_filled_output_path = base_output_path + \"/zero_filled\"\n",
    "cs_output_path = base_output_path + \"cs\"\n",
    "unet_output_path = base_output_path + \"unet\"\n",
    "varnet_output_path = base_output_path + \"varnet\"\n",
    "ad_varnet_output_path = base_output_path + \"ad_varnet\"\n",
    "\n",
    "# # Create output directories\n",
    "# !mkdir base_output_path \\\n",
    "#         zero_filled_output_path \\\n",
    "#         cs_output_path \\\n",
    "#         unet_output_path \\\n",
    "#         varnet_output_path \\\n",
    "#         ad_vartnet_output_path\n"
   ]
  },
  {
   "attachments": {},
   "cell_type": "markdown",
   "metadata": {},
   "source": [
    "## Zero-filled"
   ]
  },
  {
   "cell_type": "code",
   "execution_count": 2,
   "metadata": {},
   "outputs": [
    {
     "name": "stdout",
     "output_type": "stream",
     "text": [
      "100%|█████████████████████████████████████████████| 8/8 [03:48<00:00, 28.51s/it]\n"
     ]
    }
   ],
   "source": [
    "!python ../../fastMRI/fastmri_examples/zero_filled/run_zero_filled.py \\\n",
    "    --challenge multicoil \\\n",
    "    --data_path {data_path} \\\n",
    "    --output_path {base_output_path + \"/zero_filled\"}"
   ]
  },
  {
   "attachments": {},
   "cell_type": "markdown",
   "metadata": {},
   "source": [
    "## Compressed Sensing"
   ]
  },
  {
   "attachments": {},
   "cell_type": "markdown",
   "metadata": {},
   "source": [
    "Before running BART needs to be installed. Install it using [installation instructions][https://mrirecon.github.io/bart/].\n",
    "\n",
    "Then run these exports:\n",
    "```\n",
    "export TOOLBOX_PATH=/path/to/bart\n",
    "export PYTHONPATH=${TOOLBOX_PATH}/python:${PYTHONPATH}\n",
    "```"
   ]
  },
  {
   "cell_type": "code",
   "execution_count": 6,
   "metadata": {},
   "outputs": [],
   "source": [
    "!export TOOLBOX_PATH=/home/dbertic/Documents/Faks/OSIRV/bart/python\n",
    "!export PYTHONPATH=${TOOLBOX_PATH}/python:${PYTHONPATH}"
   ]
  },
  {
   "cell_type": "code",
   "execution_count": 9,
   "metadata": {},
   "outputs": [
    {
     "name": "stdout",
     "output_type": "stream",
     "text": [
      "Done.\n",
      "Done.\n",
      "Done.\n",
      "Done.\n",
      "Done.\n",
      "Done.\n",
      "Done.\n",
      "Done.\n",
      "Done.\n",
      "Done.\n",
      "Done.\n",
      "Done.\n",
      "Done.\n",
      "Done.\n",
      "Done.\n",
      "Done.\n",
      "Done.\n",
      "Done.\n",
      "Done.\n",
      "Done.\n",
      "Done.\n",
      "Done.\n",
      "Done.\n",
      "Done.\n",
      "Done.\n",
      "Done.\n",
      "Done.\n",
      "Done.\n",
      "Done.\n",
      "Done.\n",
      "Done.\n",
      "Done.\n",
      "Done.\n",
      "Done.\n",
      "Done.\n",
      "Done.\n",
      "Done.\n",
      "Done.\n",
      "Done.\n",
      "Done.\n",
      "Done.\n",
      "Done.\n",
      "Done.\n",
      "Done.\n",
      "Done.\n",
      "Done.\n",
      "Done.\n",
      "Done.\n",
      "Done.\n",
      "Done.\n",
      "Done.\n",
      "Done.\n",
      "Done.\n",
      "Done.\n",
      "Done.\n",
      "Done.\n",
      "Done.\n",
      "Done.\n",
      "Done.\n",
      "Done.\n",
      "Done.\n",
      "Done.\n",
      "Done.\n",
      "Done.\n",
      "Done.\n",
      "Done.\n",
      "Done.\n",
      "Done.\n",
      "Done.\n",
      "Done.\n",
      "Done.\n",
      "Done.\n",
      "Done.\n",
      "Done.\n",
      "Done.\n",
      "Done.\n",
      "Done.\n",
      "Done.\n",
      "Done.\n",
      "Done.\n",
      "Done.\n",
      "Done.\n",
      "Done.\n",
      "Done.\n",
      "Done.\n",
      "Done.\n",
      "Done.\n",
      "Done.\n",
      "Done.\n",
      "Done.\n",
      "Done.\n",
      "Done.\n",
      "Done.\n",
      "Done.\n",
      "Done.\n",
      "Done.\n",
      "Done.\n",
      "Done.\n",
      "Done.\n",
      "Done.\n",
      "Done.\n",
      "Done.\n",
      "Done.\n",
      "Done.\n",
      "Done.\n",
      "Done.\n",
      "Done.\n",
      "Done.\n",
      "Done.\n",
      "Done.\n",
      "Done.\n",
      "Done.\n",
      "Done.\n",
      "Done.\n",
      "Done.\n",
      "Done.\n",
      "Done.\n",
      "Done.\n",
      "Done.\n",
      "Done.\n",
      "Done.\n",
      "Done.\n",
      "Done.\n",
      "Done.\n"
     ]
    }
   ],
   "source": [
    "!python run_bart.py \\\n",
    "    --challenge multicoil \\\n",
    "    --data_path {data_path} \\\n",
    "    --output_path {base_output_path + \"/cs\"} \\\n",
    "    --split test"
   ]
  },
  {
   "cell_type": "markdown",
   "metadata": {},
   "source": []
  },
  {
   "attachments": {},
   "cell_type": "markdown",
   "metadata": {},
   "source": [
    "## U-Net"
   ]
  },
  {
   "cell_type": "code",
   "execution_count": 9,
   "metadata": {},
   "outputs": [
    {
     "name": "stdout",
     "output_type": "stream",
     "text": [
      "Downloading state_dict: 100%|█████████████| 1.99G/1.99G [17:35<00:00, 1.88MiB/s]\n",
      "Running inference: 100%|██████████████████████| 124/124 [04:55<00:00,  2.39s/it]\n",
      "Elapsed time for 124 slices: 299.53887126400014\n"
     ]
    }
   ],
   "source": [
    "!python ../../fastMRI/fastmri_examples/unet/run_pretrained_unet_inference.py \\\n",
    "    --data_path {data_path} \\\n",
    "    --output_path {base_output_path + \"/unet\"} \\\n",
    "    --challenge unet_brain_mc"
   ]
  },
  {
   "attachments": {},
   "cell_type": "markdown",
   "metadata": {},
   "source": [
    "## VarNet"
   ]
  },
  {
   "cell_type": "code",
   "execution_count": null,
   "metadata": {},
   "outputs": [],
   "source": [
    "!python ../../fastMRI/fastmri_examples/varnet/run_pretrained_varnet_inference.py \\\n",
    "    --data_path \"/run/media/dbertic/Transcend/MRI/multicoil_temp\" \\\n",
    "    --output_path \"/run/media/dbertic/Transcend/MRI/outputs/varnet\" \\\n",
    "    --challenge 'varnet_brain_mc'"
   ]
  },
  {
   "attachments": {},
   "cell_type": "markdown",
   "metadata": {},
   "source": [
    "Training was run from CLI in the end."
   ]
  },
  {
   "attachments": {},
   "cell_type": "markdown",
   "metadata": {},
   "source": [
    "## Adaptive VarNet"
   ]
  },
  {
   "cell_type": "code",
   "execution_count": null,
   "metadata": {},
   "outputs": [],
   "source": []
  },
  {
   "attachments": {},
   "cell_type": "markdown",
   "metadata": {},
   "source": [
    "## Dino"
   ]
  },
  {
   "cell_type": "code",
   "execution_count": null,
   "metadata": {},
   "outputs": [],
   "source": []
  }
 ],
 "metadata": {
  "kernelspec": {
   "display_name": "fast-mri",
   "language": "python",
   "name": "python3"
  },
  "language_info": {
   "codemirror_mode": {
    "name": "ipython",
    "version": 3
   },
   "file_extension": ".py",
   "mimetype": "text/x-python",
   "name": "python",
   "nbconvert_exporter": "python",
   "pygments_lexer": "ipython3",
   "version": "3.8.15"
  },
  "orig_nbformat": 4
 },
 "nbformat": 4,
 "nbformat_minor": 2
}

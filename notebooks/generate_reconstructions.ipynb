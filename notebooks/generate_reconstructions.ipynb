{
 "cells": [
  {
   "attachments": {},
   "cell_type": "markdown",
   "metadata": {},
   "source": [
    "# Generate reconstructions from example models"
   ]
  },
  {
   "attachments": {},
   "cell_type": "markdown",
   "metadata": {},
   "source": [
    "## Setup paths"
   ]
  },
  {
   "cell_type": "code",
   "execution_count": 1,
   "metadata": {},
   "outputs": [],
   "source": [
    "# Define input data path and base directory which will contain outputs\n",
    "data_path = \"./subsampled\"\n",
    "base_output_path = \"./outputs\"\n",
    "\n",
    "# Append output paths to output base directory\n",
    "zero_filled_output_path = base_output_path + \"/zero_filled\"\n",
    "cs_output_path = base_output_path + \"cs\"\n",
    "unet_output_path = base_output_path + \"unet\"\n",
    "varnet_output_path = base_output_path + \"varnet\"\n",
    "ad_varnet_output_path = base_output_path + \"ad_varnet\"\n",
    "\n",
    "# # Create output directories\n",
    "# !mkdir base_output_path \\\n",
    "#         zero_filled_output_path \\\n",
    "#         cs_output_path \\\n",
    "#         unet_output_path \\\n",
    "#         varnet_output_path \\\n",
    "#         ad_vartnet_output_path\n"
   ]
  },
  {
   "attachments": {},
   "cell_type": "markdown",
   "metadata": {},
   "source": [
    "## Zero-filled"
   ]
  },
  {
   "cell_type": "code",
   "execution_count": 2,
   "metadata": {},
   "outputs": [
    {
     "name": "stdout",
     "output_type": "stream",
     "text": [
      "100%|█████████████████████████████████████████████| 1/1 [00:03<00:00,  3.06s/it]\n"
     ]
    }
   ],
   "source": [
    "!python \"/home/dbertic/Documents/Faks/OSIRV/Project/fast_MRI/fastmri/fastMRI/fastmri_examples/zero_filled/run_zero_filled.py\" \\\n",
    "    --challenge multicoil \\\n",
    "    --data_path {data_path} \\\n",
    "    --output_path {base_output_path + \"/zero_filled\"}"
   ]
  },
  {
   "attachments": {},
   "cell_type": "markdown",
   "metadata": {},
   "source": [
    "## Compressed Sensing"
   ]
  },
  {
   "attachments": {},
   "cell_type": "markdown",
   "metadata": {},
   "source": [
    "Before running BART needs to be installed. Install it using [installation instructions][https://mrirecon.github.io/bart/].\n",
    "\n",
    "Then run these exports:\n",
    "```\n",
    "export TOOLBOX_PATH=/path/to/bart\n",
    "export PYTHONPATH=${TOOLBOX_PATH}/python:${PYTHONPATH}\n",
    "```"
   ]
  },
  {
   "cell_type": "code",
   "execution_count": 6,
   "metadata": {},
   "outputs": [],
   "source": [
    "!export TOOLBOX_PATH=/home/dbertic/Documents/Faks/OSIRV/bart/python\n",
    "!export PYTHONPATH=${TOOLBOX_PATH}/python:${PYTHONPATH}"
   ]
  },
  {
   "cell_type": "code",
   "execution_count": null,
   "metadata": {},
   "outputs": [],
   "source": [
    "!python run_bart.py \\\n",
    "    --challenge multicoil \\\n",
    "    --data_path {data_path} \\\n",
    "    --output_path {base_output_path + \"/cs\"} \\\n",
    "    --split test"
   ]
  },
  {
   "attachments": {},
   "cell_type": "markdown",
   "metadata": {},
   "source": [
    "## U-Net"
   ]
  },
  {
   "cell_type": "code",
   "execution_count": 2,
   "metadata": {},
   "outputs": [
    {
     "name": "stdout",
     "output_type": "stream",
     "text": [
      "Running inference:   6%|█▌                       | 1/16 [00:06<01:39,  6.61s/it]\n",
      "Traceback (most recent call last):\n",
      "  File \"/home/dbertic/Documents/Faks/OSIRV/Project/fast_MRI/fastmri/fastMRI/fastmri_examples/unet/run_pretrained_unet_inference.py\", line 159, in <module>\n",
      "    run_inference(\n",
      "  File \"/home/dbertic/Documents/Faks/OSIRV/Project/fast_MRI/fastmri/fastMRI/fastmri_examples/unet/run_pretrained_unet_inference.py\", line 102, in run_inference\n",
      "    output, slice_num, fname = run_unet_model(batch, model, device)\n",
      "  File \"/home/dbertic/Documents/Faks/OSIRV/Project/fast_MRI/fastmri/fastMRI/fastmri_examples/unet/run_pretrained_unet_inference.py\", line 53, in run_unet_model\n",
      "    output = model(image.to(device).unsqueeze(1)).squeeze(1).cpu()\n",
      "  File \"/home/dbertic/anaconda3/envs/fast-mri/lib/python3.8/site-packages/torch/nn/modules/module.py\", line 1194, in _call_impl\n",
      "    return forward_call(*input, **kwargs)\n",
      "  File \"/home/dbertic/anaconda3/envs/fast-mri/lib/python3.8/site-packages/fastmri/models/unet.py\", line 102, in forward\n",
      "    output = torch.cat([output, downsample_layer], dim=1)\n",
      "torch.cuda.OutOfMemoryError: CUDA out of memory. Tried to allocate 288.00 MiB (GPU 0; 3.94 GiB total capacity; 2.13 GiB already allocated; 325.31 MiB free; 2.54 GiB reserved in total by PyTorch) If reserved memory is >> allocated memory try setting max_split_size_mb to avoid fragmentation.  See documentation for Memory Management and PYTORCH_CUDA_ALLOC_CONF\n"
     ]
    }
   ],
   "source": [
    "!python \"/home/dbertic/Documents/Faks/OSIRV/Project/fast_MRI/fastmri/fastMRI/fastmri_examples/unet/run_pretrained_unet_inference.py\" \\\n",
    "    --data_path {data_path} \\\n",
    "    --output_path {base_output_path + \"/unet\"} \\\n",
    "    --challenge unet_brain_mc"
   ]
  },
  {
   "attachments": {},
   "cell_type": "markdown",
   "metadata": {},
   "source": [
    "## VarNet"
   ]
  },
  {
   "cell_type": "code",
   "execution_count": 6,
   "metadata": {},
   "outputs": [
    {
     "name": "stdout",
     "output_type": "stream",
     "text": [
      "Traceback (most recent call last):\n",
      "  File \"/home/dbertic/Documents/Faks/OSIRV/nez/fastMRI/fastmri_examples/varnet/run_pretrained_varnet_inference.py\", line 145, in <module>\n",
      "    run_inference(\n",
      "  File \"/home/dbertic/Documents/Faks/OSIRV/nez/fastMRI/fastmri_examples/varnet/run_pretrained_varnet_inference.py\", line 72, in run_inference\n",
      "    model.load_state_dict(torch.load(state_dict_file))\n",
      "  File \"/home/dbertic/anaconda3/envs/fast-mri/lib/python3.8/site-packages/torch/nn/modules/module.py\", line 1671, in load_state_dict\n",
      "    raise RuntimeError('Error(s) in loading state_dict for {}:\\n\\t{}'.format(\n",
      "RuntimeError: Error(s) in loading state_dict for VarNet:\n",
      "\tMissing key(s) in state_dict: \"sens_net.norm_unet.unet.down_sample_layers.0.layers.0.weight\", \"sens_net.norm_unet.unet.down_sample_layers.0.layers.4.weight\", \"sens_net.norm_unet.unet.down_sample_layers.1.layers.0.weight\", \"sens_net.norm_unet.unet.down_sample_layers.1.layers.4.weight\", \"sens_net.norm_unet.unet.down_sample_layers.2.layers.0.weight\", \"sens_net.norm_unet.unet.down_sample_layers.2.layers.4.weight\", \"sens_net.norm_unet.unet.down_sample_layers.3.layers.0.weight\", \"sens_net.norm_unet.unet.down_sample_layers.3.layers.4.weight\", \"sens_net.norm_unet.unet.conv.layers.0.weight\", \"sens_net.norm_unet.unet.conv.layers.4.weight\", \"sens_net.norm_unet.unet.up_conv.0.layers.0.weight\", \"sens_net.norm_unet.unet.up_conv.0.layers.4.weight\", \"sens_net.norm_unet.unet.up_conv.1.layers.0.weight\", \"sens_net.norm_unet.unet.up_conv.1.layers.4.weight\", \"sens_net.norm_unet.unet.up_conv.2.layers.0.weight\", \"sens_net.norm_unet.unet.up_conv.2.layers.4.weight\", \"sens_net.norm_unet.unet.up_conv.3.0.layers.0.weight\", \"sens_net.norm_unet.unet.up_conv.3.0.layers.4.weight\", \"sens_net.norm_unet.unet.up_conv.3.1.weight\", \"sens_net.norm_unet.unet.up_conv.3.1.bias\", \"sens_net.norm_unet.unet.up_transpose_conv.0.layers.0.weight\", \"sens_net.norm_unet.unet.up_transpose_conv.1.layers.0.weight\", \"sens_net.norm_unet.unet.up_transpose_conv.2.layers.0.weight\", \"sens_net.norm_unet.unet.up_transpose_conv.3.layers.0.weight\", \"cascades.0.dc_weight\", \"cascades.0.model.unet.down_sample_layers.0.layers.0.weight\", \"cascades.0.model.unet.down_sample_layers.0.layers.4.weight\", \"cascades.0.model.unet.down_sample_layers.1.layers.0.weight\", \"cascades.0.model.unet.down_sample_layers.1.layers.4.weight\", \"cascades.0.model.unet.down_sample_layers.2.layers.0.weight\", \"cascades.0.model.unet.down_sample_layers.2.layers.4.weight\", \"cascades.0.model.unet.down_sample_layers.3.layers.0.weight\", \"cascades.0.model.unet.down_sample_layers.3.layers.4.weight\", \"cascades.0.model.unet.conv.layers.0.weight\", \"cascades.0.model.unet.conv.layers.4.weight\", \"cascades.0.model.unet.up_conv.0.layers.0.weight\", \"cascades.0.model.unet.up_conv.0.layers.4.weight\", \"cascades.0.model.unet.up_conv.1.layers.0.weight\", \"cascades.0.model.unet.up_conv.1.layers.4.weight\", \"cascades.0.model.unet.up_conv.2.layers.0.weight\", \"cascades.0.model.unet.up_conv.2.layers.4.weight\", \"cascades.0.model.unet.up_conv.3.0.layers.0.weight\", \"cascades.0.model.unet.up_conv.3.0.layers.4.weight\", \"cascades.0.model.unet.up_conv.3.1.weight\", \"cascades.0.model.unet.up_conv.3.1.bias\", \"cascades.0.model.unet.up_transpose_conv.0.layers.0.weight\", \"cascades.0.model.unet.up_transpose_conv.1.layers.0.weight\", \"cascades.0.model.unet.up_transpose_conv.2.layers.0.weight\", \"cascades.0.model.unet.up_transpose_conv.3.layers.0.weight\", \"cascades.1.dc_weight\", \"cascades.1.model.unet.down_sample_layers.0.layers.0.weight\", \"cascades.1.model.unet.down_sample_layers.0.layers.4.weight\", \"cascades.1.model.unet.down_sample_layers.1.layers.0.weight\", \"cascades.1.model.unet.down_sample_layers.1.layers.4.weight\", \"cascades.1.model.unet.down_sample_layers.2.layers.0.weight\", \"cascades.1.model.unet.down_sample_layers.2.layers.4.weight\", \"cascades.1.model.unet.down_sample_layers.3.layers.0.weight\", \"cascades.1.model.unet.down_sample_layers.3.layers.4.weight\", \"cascades.1.model.unet.conv.layers.0.weight\", \"cascades.1.model.unet.conv.layers.4.weight\", \"cascades.1.model.unet.up_conv.0.layers.0.weight\", \"cascades.1.model.unet.up_conv.0.layers.4.weight\", \"cascades.1.model.unet.up_conv.1.layers.0.weight\", \"cascades.1.model.unet.up_conv.1.layers.4.weight\", \"cascades.1.model.unet.up_conv.2.layers.0.weight\", \"cascades.1.model.unet.up_conv.2.layers.4.weight\", \"cascades.1.model.unet.up_conv.3.0.layers.0.weight\", \"cascades.1.model.unet.up_conv.3.0.layers.4.weight\", \"cascades.1.model.unet.up_conv.3.1.weight\", \"cascades.1.model.unet.up_conv.3.1.bias\", \"cascades.1.model.unet.up_transpose_conv.0.layers.0.weight\", \"cascades.1.model.unet.up_transpose_conv.1.layers.0.weight\", \"cascades.1.model.unet.up_transpose_conv.2.layers.0.weight\", \"cascades.1.model.unet.up_transpose_conv.3.layers.0.weight\", \"cascades.2.dc_weight\", \"cascades.2.model.unet.down_sample_layers.0.layers.0.weight\", \"cascades.2.model.unet.down_sample_layers.0.layers.4.weight\", \"cascades.2.model.unet.down_sample_layers.1.layers.0.weight\", \"cascades.2.model.unet.down_sample_layers.1.layers.4.weight\", \"cascades.2.model.unet.down_sample_layers.2.layers.0.weight\", \"cascades.2.model.unet.down_sample_layers.2.layers.4.weight\", \"cascades.2.model.unet.down_sample_layers.3.layers.0.weight\", \"cascades.2.model.unet.down_sample_layers.3.layers.4.weight\", \"cascades.2.model.unet.conv.layers.0.weight\", \"cascades.2.model.unet.conv.layers.4.weight\", \"cascades.2.model.unet.up_conv.0.layers.0.weight\", \"cascades.2.model.unet.up_conv.0.layers.4.weight\", \"cascades.2.model.unet.up_conv.1.layers.0.weight\", \"cascades.2.model.unet.up_conv.1.layers.4.weight\", \"cascades.2.model.unet.up_conv.2.layers.0.weight\", \"cascades.2.model.unet.up_conv.2.layers.4.weight\", \"cascades.2.model.unet.up_conv.3.0.layers.0.weight\", \"cascades.2.model.unet.up_conv.3.0.layers.4.weight\", \"cascades.2.model.unet.up_conv.3.1.weight\", \"cascades.2.model.unet.up_conv.3.1.bias\", \"cascades.2.model.unet.up_transpose_conv.0.layers.0.weight\", \"cascades.2.model.unet.up_transpose_conv.1.layers.0.weight\", \"cascades.2.model.unet.up_transpose_conv.2.layers.0.weight\", \"cascades.2.model.unet.up_transpose_conv.3.layers.0.weight\", \"cascades.3.dc_weight\", \"cascades.3.model.unet.down_sample_layers.0.layers.0.weight\", \"cascades.3.model.unet.down_sample_layers.0.layers.4.weight\", \"cascades.3.model.unet.down_sample_layers.1.layers.0.weight\", \"cascades.3.model.unet.down_sample_layers.1.layers.4.weight\", \"cascades.3.model.unet.down_sample_layers.2.layers.0.weight\", \"cascades.3.model.unet.down_sample_layers.2.layers.4.weight\", \"cascades.3.model.unet.down_sample_layers.3.layers.0.weight\", \"cascades.3.model.unet.down_sample_layers.3.layers.4.weight\", \"cascades.3.model.unet.conv.layers.0.weight\", \"cascades.3.model.unet.conv.layers.4.weight\", \"cascades.3.model.unet.up_conv.0.layers.0.weight\", \"cascades.3.model.unet.up_conv.0.layers.4.weight\", \"cascades.3.model.unet.up_conv.1.layers.0.weight\", \"cascades.3.model.unet.up_conv.1.layers.4.weight\", \"cascades.3.model.unet.up_conv.2.layers.0.weight\", \"cascades.3.model.unet.up_conv.2.layers.4.weight\", \"cascades.3.model.unet.up_conv.3.0.layers.0.weight\", \"cascades.3.model.unet.up_conv.3.0.layers.4.weight\", \"cascades.3.model.unet.up_conv.3.1.weight\", \"cascades.3.model.unet.up_conv.3.1.bias\", \"cascades.3.model.unet.up_transpose_conv.0.layers.0.weight\", \"cascades.3.model.unet.up_transpose_conv.1.layers.0.weight\", \"cascades.3.model.unet.up_transpose_conv.2.layers.0.weight\", \"cascades.3.model.unet.up_transpose_conv.3.layers.0.weight\", \"cascades.4.dc_weight\", \"cascades.4.model.unet.down_sample_layers.0.layers.0.weight\", \"cascades.4.model.unet.down_sample_layers.0.layers.4.weight\", \"cascades.4.model.unet.down_sample_layers.1.layers.0.weight\", \"cascades.4.model.unet.down_sample_layers.1.layers.4.weight\", \"cascades.4.model.unet.down_sample_layers.2.layers.0.weight\", \"cascades.4.model.unet.down_sample_layers.2.layers.4.weight\", \"cascades.4.model.unet.down_sample_layers.3.layers.0.weight\", \"cascades.4.model.unet.down_sample_layers.3.layers.4.weight\", \"cascades.4.model.unet.conv.layers.0.weight\", \"cascades.4.model.unet.conv.layers.4.weight\", \"cascades.4.model.unet.up_conv.0.layers.0.weight\", \"cascades.4.model.unet.up_conv.0.layers.4.weight\", \"cascades.4.model.unet.up_conv.1.layers.0.weight\", \"cascades.4.model.unet.up_conv.1.layers.4.weight\", \"cascades.4.model.unet.up_conv.2.layers.0.weight\", \"cascades.4.model.unet.up_conv.2.layers.4.weight\", \"cascades.4.model.unet.up_conv.3.0.layers.0.weight\", \"cascades.4.model.unet.up_conv.3.0.layers.4.weight\", \"cascades.4.model.unet.up_conv.3.1.weight\", \"cascades.4.model.unet.up_conv.3.1.bias\", \"cascades.4.model.unet.up_transpose_conv.0.layers.0.weight\", \"cascades.4.model.unet.up_transpose_conv.1.layers.0.weight\", \"cascades.4.model.unet.up_transpose_conv.2.layers.0.weight\", \"cascades.4.model.unet.up_transpose_conv.3.layers.0.weight\", \"cascades.5.dc_weight\", \"cascades.5.model.unet.down_sample_layers.0.layers.0.weight\", \"cascades.5.model.unet.down_sample_layers.0.layers.4.weight\", \"cascades.5.model.unet.down_sample_layers.1.layers.0.weight\", \"cascades.5.model.unet.down_sample_layers.1.layers.4.weight\", \"cascades.5.model.unet.down_sample_layers.2.layers.0.weight\", \"cascades.5.model.unet.down_sample_layers.2.layers.4.weight\", \"cascades.5.model.unet.down_sample_layers.3.layers.0.weight\", \"cascades.5.model.unet.down_sample_layers.3.layers.4.weight\", \"cascades.5.model.unet.conv.layers.0.weight\", \"cascades.5.model.unet.conv.layers.4.weight\", \"cascades.5.model.unet.up_conv.0.layers.0.weight\", \"cascades.5.model.unet.up_conv.0.layers.4.weight\", \"cascades.5.model.unet.up_conv.1.layers.0.weight\", \"cascades.5.model.unet.up_conv.1.layers.4.weight\", \"cascades.5.model.unet.up_conv.2.layers.0.weight\", \"cascades.5.model.unet.up_conv.2.layers.4.weight\", \"cascades.5.model.unet.up_conv.3.0.layers.0.weight\", \"cascades.5.model.unet.up_conv.3.0.layers.4.weight\", \"cascades.5.model.unet.up_conv.3.1.weight\", \"cascades.5.model.unet.up_conv.3.1.bias\", \"cascades.5.model.unet.up_transpose_conv.0.layers.0.weight\", \"cascades.5.model.unet.up_transpose_conv.1.layers.0.weight\", \"cascades.5.model.unet.up_transpose_conv.2.layers.0.weight\", \"cascades.5.model.unet.up_transpose_conv.3.layers.0.weight\", \"cascades.6.dc_weight\", \"cascades.6.model.unet.down_sample_layers.0.layers.0.weight\", \"cascades.6.model.unet.down_sample_layers.0.layers.4.weight\", \"cascades.6.model.unet.down_sample_layers.1.layers.0.weight\", \"cascades.6.model.unet.down_sample_layers.1.layers.4.weight\", \"cascades.6.model.unet.down_sample_layers.2.layers.0.weight\", \"cascades.6.model.unet.down_sample_layers.2.layers.4.weight\", \"cascades.6.model.unet.down_sample_layers.3.layers.0.weight\", \"cascades.6.model.unet.down_sample_layers.3.layers.4.weight\", \"cascades.6.model.unet.conv.layers.0.weight\", \"cascades.6.model.unet.conv.layers.4.weight\", \"cascades.6.model.unet.up_conv.0.layers.0.weight\", \"cascades.6.model.unet.up_conv.0.layers.4.weight\", \"cascades.6.model.unet.up_conv.1.layers.0.weight\", \"cascades.6.model.unet.up_conv.1.layers.4.weight\", \"cascades.6.model.unet.up_conv.2.layers.0.weight\", \"cascades.6.model.unet.up_conv.2.layers.4.weight\", \"cascades.6.model.unet.up_conv.3.0.layers.0.weight\", \"cascades.6.model.unet.up_conv.3.0.layers.4.weight\", \"cascades.6.model.unet.up_conv.3.1.weight\", \"cascades.6.model.unet.up_conv.3.1.bias\", \"cascades.6.model.unet.up_transpose_conv.0.layers.0.weight\", \"cascades.6.model.unet.up_transpose_conv.1.layers.0.weight\", \"cascades.6.model.unet.up_transpose_conv.2.layers.0.weight\", \"cascades.6.model.unet.up_transpose_conv.3.layers.0.weight\", \"cascades.7.dc_weight\", \"cascades.7.model.unet.down_sample_layers.0.layers.0.weight\", \"cascades.7.model.unet.down_sample_layers.0.layers.4.weight\", \"cascades.7.model.unet.down_sample_layers.1.layers.0.weight\", \"cascades.7.model.unet.down_sample_layers.1.layers.4.weight\", \"cascades.7.model.unet.down_sample_layers.2.layers.0.weight\", \"cascades.7.model.unet.down_sample_layers.2.layers.4.weight\", \"cascades.7.model.unet.down_sample_layers.3.layers.0.weight\", \"cascades.7.model.unet.down_sample_layers.3.layers.4.weight\", \"cascades.7.model.unet.conv.layers.0.weight\", \"cascades.7.model.unet.conv.layers.4.weight\", \"cascades.7.model.unet.up_conv.0.layers.0.weight\", \"cascades.7.model.unet.up_conv.0.layers.4.weight\", \"cascades.7.model.unet.up_conv.1.layers.0.weight\", \"cascades.7.model.unet.up_conv.1.layers.4.weight\", \"cascades.7.model.unet.up_conv.2.layers.0.weight\", \"cascades.7.model.unet.up_conv.2.layers.4.weight\", \"cascades.7.model.unet.up_conv.3.0.layers.0.weight\", \"cascades.7.model.unet.up_conv.3.0.layers.4.weight\", \"cascades.7.model.unet.up_conv.3.1.weight\", \"cascades.7.model.unet.up_conv.3.1.bias\", \"cascades.7.model.unet.up_transpose_conv.0.layers.0.weight\", \"cascades.7.model.unet.up_transpose_conv.1.layers.0.weight\", \"cascades.7.model.unet.up_transpose_conv.2.layers.0.weight\", \"cascades.7.model.unet.up_transpose_conv.3.layers.0.weight\", \"cascades.8.dc_weight\", \"cascades.8.model.unet.down_sample_layers.0.layers.0.weight\", \"cascades.8.model.unet.down_sample_layers.0.layers.4.weight\", \"cascades.8.model.unet.down_sample_layers.1.layers.0.weight\", \"cascades.8.model.unet.down_sample_layers.1.layers.4.weight\", \"cascades.8.model.unet.down_sample_layers.2.layers.0.weight\", \"cascades.8.model.unet.down_sample_layers.2.layers.4.weight\", \"cascades.8.model.unet.down_sample_layers.3.layers.0.weight\", \"cascades.8.model.unet.down_sample_layers.3.layers.4.weight\", \"cascades.8.model.unet.conv.layers.0.weight\", \"cascades.8.model.unet.conv.layers.4.weight\", \"cascades.8.model.unet.up_conv.0.layers.0.weight\", \"cascades.8.model.unet.up_conv.0.layers.4.weight\", \"cascades.8.model.unet.up_conv.1.layers.0.weight\", \"cascades.8.model.unet.up_conv.1.layers.4.weight\", \"cascades.8.model.unet.up_conv.2.layers.0.weight\", \"cascades.8.model.unet.up_conv.2.layers.4.weight\", \"cascades.8.model.unet.up_conv.3.0.layers.0.weight\", \"cascades.8.model.unet.up_conv.3.0.layers.4.weight\", \"cascades.8.model.unet.up_conv.3.1.weight\", \"cascades.8.model.unet.up_conv.3.1.bias\", \"cascades.8.model.unet.up_transpose_conv.0.layers.0.weight\", \"cascades.8.model.unet.up_transpose_conv.1.layers.0.weight\", \"cascades.8.model.unet.up_transpose_conv.2.layers.0.weight\", \"cascades.8.model.unet.up_transpose_conv.3.layers.0.weight\", \"cascades.9.dc_weight\", \"cascades.9.model.unet.down_sample_layers.0.layers.0.weight\", \"cascades.9.model.unet.down_sample_layers.0.layers.4.weight\", \"cascades.9.model.unet.down_sample_layers.1.layers.0.weight\", \"cascades.9.model.unet.down_sample_layers.1.layers.4.weight\", \"cascades.9.model.unet.down_sample_layers.2.layers.0.weight\", \"cascades.9.model.unet.down_sample_layers.2.layers.4.weight\", \"cascades.9.model.unet.down_sample_layers.3.layers.0.weight\", \"cascades.9.model.unet.down_sample_layers.3.layers.4.weight\", \"cascades.9.model.unet.conv.layers.0.weight\", \"cascades.9.model.unet.conv.layers.4.weight\", \"cascades.9.model.unet.up_conv.0.layers.0.weight\", \"cascades.9.model.unet.up_conv.0.layers.4.weight\", \"cascades.9.model.unet.up_conv.1.layers.0.weight\", \"cascades.9.model.unet.up_conv.1.layers.4.weight\", \"cascades.9.model.unet.up_conv.2.layers.0.weight\", \"cascades.9.model.unet.up_conv.2.layers.4.weight\", \"cascades.9.model.unet.up_conv.3.0.layers.0.weight\", \"cascades.9.model.unet.up_conv.3.0.layers.4.weight\", \"cascades.9.model.unet.up_conv.3.1.weight\", \"cascades.9.model.unet.up_conv.3.1.bias\", \"cascades.9.model.unet.up_transpose_conv.0.layers.0.weight\", \"cascades.9.model.unet.up_transpose_conv.1.layers.0.weight\", \"cascades.9.model.unet.up_transpose_conv.2.layers.0.weight\", \"cascades.9.model.unet.up_transpose_conv.3.layers.0.weight\", \"cascades.10.dc_weight\", \"cascades.10.model.unet.down_sample_layers.0.layers.0.weight\", \"cascades.10.model.unet.down_sample_layers.0.layers.4.weight\", \"cascades.10.model.unet.down_sample_layers.1.layers.0.weight\", \"cascades.10.model.unet.down_sample_layers.1.layers.4.weight\", \"cascades.10.model.unet.down_sample_layers.2.layers.0.weight\", \"cascades.10.model.unet.down_sample_layers.2.layers.4.weight\", \"cascades.10.model.unet.down_sample_layers.3.layers.0.weight\", \"cascades.10.model.unet.down_sample_layers.3.layers.4.weight\", \"cascades.10.model.unet.conv.layers.0.weight\", \"cascades.10.model.unet.conv.layers.4.weight\", \"cascades.10.model.unet.up_conv.0.layers.0.weight\", \"cascades.10.model.unet.up_conv.0.layers.4.weight\", \"cascades.10.model.unet.up_conv.1.layers.0.weight\", \"cascades.10.model.unet.up_conv.1.layers.4.weight\", \"cascades.10.model.unet.up_conv.2.layers.0.weight\", \"cascades.10.model.unet.up_conv.2.layers.4.weight\", \"cascades.10.model.unet.up_conv.3.0.layers.0.weight\", \"cascades.10.model.unet.up_conv.3.0.layers.4.weight\", \"cascades.10.model.unet.up_conv.3.1.weight\", \"cascades.10.model.unet.up_conv.3.1.bias\", \"cascades.10.model.unet.up_transpose_conv.0.layers.0.weight\", \"cascades.10.model.unet.up_transpose_conv.1.layers.0.weight\", \"cascades.10.model.unet.up_transpose_conv.2.layers.0.weight\", \"cascades.10.model.unet.up_transpose_conv.3.layers.0.weight\", \"cascades.11.dc_weight\", \"cascades.11.model.unet.down_sample_layers.0.layers.0.weight\", \"cascades.11.model.unet.down_sample_layers.0.layers.4.weight\", \"cascades.11.model.unet.down_sample_layers.1.layers.0.weight\", \"cascades.11.model.unet.down_sample_layers.1.layers.4.weight\", \"cascades.11.model.unet.down_sample_layers.2.layers.0.weight\", \"cascades.11.model.unet.down_sample_layers.2.layers.4.weight\", \"cascades.11.model.unet.down_sample_layers.3.layers.0.weight\", \"cascades.11.model.unet.down_sample_layers.3.layers.4.weight\", \"cascades.11.model.unet.conv.layers.0.weight\", \"cascades.11.model.unet.conv.layers.4.weight\", \"cascades.11.model.unet.up_conv.0.layers.0.weight\", \"cascades.11.model.unet.up_conv.0.layers.4.weight\", \"cascades.11.model.unet.up_conv.1.layers.0.weight\", \"cascades.11.model.unet.up_conv.1.layers.4.weight\", \"cascades.11.model.unet.up_conv.2.layers.0.weight\", \"cascades.11.model.unet.up_conv.2.layers.4.weight\", \"cascades.11.model.unet.up_conv.3.0.layers.0.weight\", \"cascades.11.model.unet.up_conv.3.0.layers.4.weight\", \"cascades.11.model.unet.up_conv.3.1.weight\", \"cascades.11.model.unet.up_conv.3.1.bias\", \"cascades.11.model.unet.up_transpose_conv.0.layers.0.weight\", \"cascades.11.model.unet.up_transpose_conv.1.layers.0.weight\", \"cascades.11.model.unet.up_transpose_conv.2.layers.0.weight\", \"cascades.11.model.unet.up_transpose_conv.3.layers.0.weight\". \n",
      "\tUnexpected key(s) in state_dict: \"down_sample_layers.0.layers.0.weight\", \"down_sample_layers.0.layers.4.weight\", \"down_sample_layers.1.layers.0.weight\", \"down_sample_layers.1.layers.4.weight\", \"down_sample_layers.2.layers.0.weight\", \"down_sample_layers.2.layers.4.weight\", \"down_sample_layers.3.layers.0.weight\", \"down_sample_layers.3.layers.4.weight\", \"conv.layers.0.weight\", \"conv.layers.4.weight\", \"up_conv.0.layers.0.weight\", \"up_conv.0.layers.4.weight\", \"up_conv.1.layers.0.weight\", \"up_conv.1.layers.4.weight\", \"up_conv.2.layers.0.weight\", \"up_conv.2.layers.4.weight\", \"up_conv.3.0.layers.0.weight\", \"up_conv.3.0.layers.4.weight\", \"up_conv.3.1.weight\", \"up_conv.3.1.bias\", \"up_transpose_conv.0.layers.0.weight\", \"up_transpose_conv.1.layers.0.weight\", \"up_transpose_conv.2.layers.0.weight\", \"up_transpose_conv.3.layers.0.weight\". \n"
     ]
    }
   ],
   "source": [
    "# !python3 ~/Documents/Faks/OSIRV/nez/fastMRI/fastmri_examples/varnet/run_pretrained_varnet_inference.py --data_path /home/dbertic/Documents/Faks/OSIRV/fastmri-project/notebooks/subsampled --output_path /home/dbertic/Documents/Faks/OSIRV/fastmri-project/notebooks/outputs/varnet --challenge \"varnet_brain_mc\""
   ]
  },
  {
   "cell_type": "code",
   "execution_count": 3,
   "metadata": {},
   "outputs": [
    {
     "name": "stdout",
     "output_type": "stream",
     "text": [
      "python: can't open file '../../fastMRI/fastmri_examples/varnet/run_pretrained_varnet_inference.py': [Errno 2] No such file or directory\n"
     ]
    }
   ],
   "source": [
    "    !python ../../fastMRI/fastmri_examples/varnet/run_pretrained_varnet_inference.py \\\n",
    "        --data_path \"/home/dbertic/Documents/Faks/OSIRV/fastmri-project/notebooks/subsampled\" \\\n",
    "        --output_path \"/home/dbertic/Documents/Faks/OSIRV/fastmri-project/notebooks/outputs/varnet\" \\\n",
    "        --challenge 'varnet_brain_mc'"
   ]
  },
  {
   "attachments": {},
   "cell_type": "markdown",
   "metadata": {},
   "source": [
    "Training was run from CLI in the end."
   ]
  }
 ],
 "metadata": {
  "kernelspec": {
   "display_name": "fast-mri",
   "language": "python",
   "name": "python3"
  },
  "language_info": {
   "codemirror_mode": {
    "name": "ipython",
    "version": 3
   },
   "file_extension": ".py",
   "mimetype": "text/x-python",
   "name": "python",
   "nbconvert_exporter": "python",
   "pygments_lexer": "ipython3",
   "version": "3.8.15"
  },
  "orig_nbformat": 4
 },
 "nbformat": 4,
 "nbformat_minor": 2
}

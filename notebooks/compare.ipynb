{
 "cells": [
  {
   "cell_type": "code",
   "execution_count": 17,
   "metadata": {},
   "outputs": [],
   "source": [
    "# Import dependencies\n",
    "import h5py\n",
    "import numpy as np"
   ]
  },
  {
   "cell_type": "code",
   "execution_count": 21,
   "metadata": {},
   "outputs": [],
   "source": [
    "hf_sub = h5py.File(\"subsampled/file_brain_AXT2_210_6001879.h5\")\n",
    "hf_og = h5py.File(\"/run/media/dbertic/Transcend/MRI/multicoil_val/file_brain_AXT2_210_6001879.h5\")"
   ]
  },
  {
   "cell_type": "code",
   "execution_count": 22,
   "metadata": {},
   "outputs": [
    {
     "name": "stdout",
     "output_type": "stream",
     "text": [
      "Keys: ['ismrmrd_header', 'kspace', 'mask', 'reconstruction_rss']\n",
      "Attrs: {'acquisition': 'AXT2', 'max': 0.0006411402391674308, 'norm': 0.16125332777179052, 'patient_id': '29793fc6de6dd9dd485719bd82adfc9d374d9219746656ff0204e1b7e5b8c42c'}\n"
     ]
    }
   ],
   "source": [
    "print('Keys:', list(hf_sub.keys()))\n",
    "print('Attrs:', dict(hf_sub.attrs))"
   ]
  },
  {
   "cell_type": "code",
   "execution_count": 20,
   "metadata": {},
   "outputs": [
    {
     "name": "stdout",
     "output_type": "stream",
     "text": [
      "Keys: ['ismrmrd_header', 'kspace', 'reconstruction_rss']\n",
      "Attrs: {'acquisition': 'AXT2', 'max': 0.0006411402391674308, 'norm': 0.16125332777179052, 'patient_id': '29793fc6de6dd9dd485719bd82adfc9d374d9219746656ff0204e1b7e5b8c42c'}\n"
     ]
    }
   ],
   "source": [
    "print('Keys:', list(hf_og.keys()))\n",
    "print('Attrs:', dict(hf_og.attrs))"
   ]
  },
  {
   "cell_type": "code",
   "execution_count": 23,
   "metadata": {},
   "outputs": [
    {
     "name": "stdout",
     "output_type": "stream",
     "text": [
      "Keys: ['ismrmrd_header', 'kspace', 'mask']\n",
      "Attrs: {'acceleration': 8, 'acquisition': 'AXFLAIR', 'num_low_frequency': 13, 'patient_id': '3def0d4564b76e874615f2caeb62edcf33d46d48e658926d48cc3764f62f4bcf'}\n"
     ]
    }
   ],
   "source": [
    "hf_test = h5py.File(\"/run/media/dbertic/Transcend/MRI/multicoil_temp/multicoil_test/file_brain_AXFLAIR_200_6002480.h5\")\n",
    "\n",
    "print('Keys:', list(hf_test.keys()))\n",
    "print('Attrs:', dict(hf_test.attrs))\n",
    "\n"
   ]
  }
 ],
 "metadata": {
  "kernelspec": {
   "display_name": "fast-mri",
   "language": "python",
   "name": "python3"
  },
  "language_info": {
   "codemirror_mode": {
    "name": "ipython",
    "version": 3
   },
   "file_extension": ".py",
   "mimetype": "text/x-python",
   "name": "python",
   "nbconvert_exporter": "python",
   "pygments_lexer": "ipython3",
   "version": "3.8.15"
  },
  "orig_nbformat": 4
 },
 "nbformat": 4,
 "nbformat_minor": 2
}
